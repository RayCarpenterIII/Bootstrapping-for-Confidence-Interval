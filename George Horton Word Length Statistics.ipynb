{
 "cells": [
  {
   "cell_type": "markdown",
   "id": "9f5deaa9-738e-402e-9171-323f88184d32",
   "metadata": {},
   "source": [
    "# George Horton Bootstrapping Average Word Length"
   ]
  },
  {
   "cell_type": "markdown",
   "id": "49eff0cd-20b8-4acc-9779-a98ebeb0fd75",
   "metadata": {},
   "source": [
    "The purpose of this code is to determine whether there was a change in the overall average word length in Horton's poems throughout his lifetime.\n",
    "<br>There are only a few poems in some years, which will make finding a true average difficult. The method that will be used to help find a confidence intervall will be by bootstrapping new poems with replacemtn for all the years."
   ]
  },
  {
   "cell_type": "code",
   "execution_count": 109,
   "id": "9f9cdc5b-db60-4207-ac14-9cc18cf10c8d",
   "metadata": {},
   "outputs": [
    {
     "name": "stderr",
     "output_type": "stream",
     "text": [
      "[nltk_data] Downloading package stopwords to\n",
      "[nltk_data]     C:\\Users\\raywz\\AppData\\Roaming\\nltk_data...\n",
      "[nltk_data]   Package stopwords is already up-to-date!\n"
     ]
    }
   ],
   "source": [
    "import pandas as pd\n",
    "\n",
    "import numpy as np\n",
    "\n",
    "from datascience import *\n",
    "\n",
    "import nltk as nltk\n",
    "from nltk.corpus import stopwords\n",
    "nltk.download('stopwords')\n",
    "from nltk.tokenize import word_tokenize\n",
    "\n",
    "import matplotlib\n",
    "%matplotlib inline\n",
    "import matplotlib.pyplot as plt"
   ]
  },
  {
   "cell_type": "code",
   "execution_count": 22,
   "id": "00e74c24-eaa2-4a38-adbe-f3043c1ae123",
   "metadata": {},
   "outputs": [
    {
     "data": {
      "text/html": [
       "<div>\n",
       "<style scoped>\n",
       "    .dataframe tbody tr th:only-of-type {\n",
       "        vertical-align: middle;\n",
       "    }\n",
       "\n",
       "    .dataframe tbody tr th {\n",
       "        vertical-align: top;\n",
       "    }\n",
       "\n",
       "    .dataframe thead th {\n",
       "        text-align: right;\n",
       "    }\n",
       "</style>\n",
       "<table border=\"1\" class=\"dataframe\">\n",
       "  <thead>\n",
       "    <tr style=\"text-align: right;\">\n",
       "      <th></th>\n",
       "      <th>when_written</th>\n",
       "      <th>text_new</th>\n",
       "    </tr>\n",
       "  </thead>\n",
       "  <tbody>\n",
       "    <tr>\n",
       "      <th>0</th>\n",
       "      <td>1829</td>\n",
       "      <td>creation fires my tongue nature thy anthems ra...</td>\n",
       "    </tr>\n",
       "    <tr>\n",
       "      <th>1</th>\n",
       "      <td>1829</td>\n",
       "      <td>oh  heartless dove mount in the skies  spread ...</td>\n",
       "    </tr>\n",
       "    <tr>\n",
       "      <th>2</th>\n",
       "      <td>1829</td>\n",
       "      <td>and wilt thou  love  my soul display  and all ...</td>\n",
       "    </tr>\n",
       "    <tr>\n",
       "      <th>3</th>\n",
       "      <td>1829</td>\n",
       "      <td>alas and am i born for this  to wear this slav...</td>\n",
       "    </tr>\n",
       "    <tr>\n",
       "      <th>4</th>\n",
       "      <td>1829</td>\n",
       "      <td>eliza  tell thy lover why or what induced thee...</td>\n",
       "    </tr>\n",
       "    <tr>\n",
       "      <th>...</th>\n",
       "      <td>...</td>\n",
       "      <td>...</td>\n",
       "    </tr>\n",
       "    <tr>\n",
       "      <th>72</th>\n",
       "      <td>1851</td>\n",
       "      <td>departing love  with much delight i think of t...</td>\n",
       "    </tr>\n",
       "    <tr>\n",
       "      <th>73</th>\n",
       "      <td>1851</td>\n",
       "      <td>departing love  with much delight  i think of ...</td>\n",
       "    </tr>\n",
       "    <tr>\n",
       "      <th>74</th>\n",
       "      <td>1826</td>\n",
       "      <td>following was written by george haughton the n...</td>\n",
       "    </tr>\n",
       "    <tr>\n",
       "      <th>75</th>\n",
       "      <td>1845</td>\n",
       "      <td>an acrostic to their little daughter my primog...</td>\n",
       "    </tr>\n",
       "    <tr>\n",
       "      <th>76</th>\n",
       "      <td>1845</td>\n",
       "      <td>lines composed by george horton  183x  the ple...</td>\n",
       "    </tr>\n",
       "  </tbody>\n",
       "</table>\n",
       "<p>77 rows × 2 columns</p>\n",
       "</div>"
      ],
      "text/plain": [
       "    when_written                                           text_new\n",
       "0           1829  creation fires my tongue nature thy anthems ra...\n",
       "1           1829  oh  heartless dove mount in the skies  spread ...\n",
       "2           1829  and wilt thou  love  my soul display  and all ...\n",
       "3           1829  alas and am i born for this  to wear this slav...\n",
       "4           1829  eliza  tell thy lover why or what induced thee...\n",
       "..           ...                                                ...\n",
       "72          1851  departing love  with much delight i think of t...\n",
       "73          1851  departing love  with much delight  i think of ...\n",
       "74          1826  following was written by george haughton the n...\n",
       "75          1845  an acrostic to their little daughter my primog...\n",
       "76          1845  lines composed by george horton  183x  the ple...\n",
       "\n",
       "[77 rows x 2 columns]"
      ]
     },
     "execution_count": 22,
     "metadata": {},
     "output_type": "execute_result"
    }
   ],
   "source": [
    "rays_df3 = pd.read_csv(r'eng190_data.csv')\n",
    "rays_df3"
   ]
  },
  {
   "cell_type": "markdown",
   "id": "68e8b988-84da-4553-b642-0f114c5cc9ed",
   "metadata": {},
   "source": [
    "The next portion of code is to group poems by year and create a seperate dataframe for each."
   ]
  },
  {
   "cell_type": "code",
   "execution_count": 190,
   "id": "a5b496d2-d024-4ca4-88ed-07b8ec177b14",
   "metadata": {},
   "outputs": [
    {
     "data": {
      "text/html": [
       "<div>\n",
       "<style scoped>\n",
       "    .dataframe tbody tr th:only-of-type {\n",
       "        vertical-align: middle;\n",
       "    }\n",
       "\n",
       "    .dataframe tbody tr th {\n",
       "        vertical-align: top;\n",
       "    }\n",
       "\n",
       "    .dataframe thead th {\n",
       "        text-align: right;\n",
       "    }\n",
       "</style>\n",
       "<table border=\"1\" class=\"dataframe\">\n",
       "  <thead>\n",
       "    <tr style=\"text-align: right;\">\n",
       "      <th></th>\n",
       "      <th>when_written</th>\n",
       "      <th>text_new</th>\n",
       "    </tr>\n",
       "  </thead>\n",
       "  <tbody>\n",
       "    <tr>\n",
       "      <th>0</th>\n",
       "      <td>1829</td>\n",
       "      <td>creation fires my tongue nature thy anthems ra...</td>\n",
       "    </tr>\n",
       "    <tr>\n",
       "      <th>1</th>\n",
       "      <td>1829</td>\n",
       "      <td>oh  heartless dove mount in the skies  spread ...</td>\n",
       "    </tr>\n",
       "    <tr>\n",
       "      <th>2</th>\n",
       "      <td>1829</td>\n",
       "      <td>and wilt thou  love  my soul display  and all ...</td>\n",
       "    </tr>\n",
       "    <tr>\n",
       "      <th>3</th>\n",
       "      <td>1829</td>\n",
       "      <td>alas and am i born for this  to wear this slav...</td>\n",
       "    </tr>\n",
       "    <tr>\n",
       "      <th>4</th>\n",
       "      <td>1829</td>\n",
       "      <td>eliza  tell thy lover why or what induced thee...</td>\n",
       "    </tr>\n",
       "    <tr>\n",
       "      <th>5</th>\n",
       "      <td>1829</td>\n",
       "      <td>whilst tracing thy visage  i sink in emotion  ...</td>\n",
       "    </tr>\n",
       "    <tr>\n",
       "      <th>6</th>\n",
       "      <td>1829</td>\n",
       "      <td>blest babe it at length has withdrawn  the ser...</td>\n",
       "    </tr>\n",
       "    <tr>\n",
       "      <th>7</th>\n",
       "      <td>1829</td>\n",
       "      <td>am i sadly cast aside  on misfortunes rugged t...</td>\n",
       "    </tr>\n",
       "    <tr>\n",
       "      <th>8</th>\n",
       "      <td>1829</td>\n",
       "      <td>een john the baptist did not know who christ t...</td>\n",
       "    </tr>\n",
       "    <tr>\n",
       "      <th>9</th>\n",
       "      <td>1829</td>\n",
       "      <td>hail  thou auspicious vernal dawn ye birds  pr...</td>\n",
       "    </tr>\n",
       "    <tr>\n",
       "      <th>10</th>\n",
       "      <td>1829</td>\n",
       "      <td>esteville fire begins to burn the auburn field...</td>\n",
       "    </tr>\n",
       "  </tbody>\n",
       "</table>\n",
       "</div>"
      ],
      "text/plain": [
       "    when_written                                           text_new\n",
       "0           1829  creation fires my tongue nature thy anthems ra...\n",
       "1           1829  oh  heartless dove mount in the skies  spread ...\n",
       "2           1829  and wilt thou  love  my soul display  and all ...\n",
       "3           1829  alas and am i born for this  to wear this slav...\n",
       "4           1829  eliza  tell thy lover why or what induced thee...\n",
       "5           1829  whilst tracing thy visage  i sink in emotion  ...\n",
       "6           1829  blest babe it at length has withdrawn  the ser...\n",
       "7           1829  am i sadly cast aside  on misfortunes rugged t...\n",
       "8           1829  een john the baptist did not know who christ t...\n",
       "9           1829  hail  thou auspicious vernal dawn ye birds  pr...\n",
       "10          1829  esteville fire begins to burn the auburn field..."
      ]
     },
     "execution_count": 190,
     "metadata": {},
     "output_type": "execute_result"
    }
   ],
   "source": [
    "df_1829 = rays_df3[rays_df3['when_written'] == 1829]\n",
    "df_1837 = rays_df3[rays_df3['when_written'] == 1837]\n",
    "df_1845 = rays_df3[rays_df3['when_written'] == 1845]\n",
    "df_1844 = rays_df3[rays_df3['when_written'] == 1844]\n",
    "df_1798 = rays_df3[rays_df3['when_written'] == 1798]\n",
    "df_1840 = rays_df3[rays_df3['when_written'] == 1840]\n",
    "df_1851 = rays_df3[rays_df3['when_written'] == 1851]\n",
    "df_1826 = rays_df3[rays_df3['when_written'] == 1826]\n",
    "df_1829"
   ]
  },
  {
   "cell_type": "markdown",
   "id": "c97f9341-1f34-46da-9d1c-fbd5fc272a8d",
   "metadata": {},
   "source": [
    "The purpose of this portion is to make a list of all words used throughout the poems, and return a list of words."
   ]
  },
  {
   "cell_type": "code",
   "execution_count": 191,
   "id": "1a644365-8f25-4790-82eb-0cb420117c22",
   "metadata": {},
   "outputs": [],
   "source": [
    "def word_list(table):\n",
    "    text = table['text_new'].values\n",
    "    \n",
    "    words = []\n",
    "    for i in text:\n",
    "        split_poems = i.split()\n",
    "        words.append(split_poems)\n",
    "    result = sum(words, [])\n",
    "    return result\n",
    "\n",
    "#word_list(df_1826)"
   ]
  },
  {
   "cell_type": "code",
   "execution_count": null,
   "id": "4099a58b-eee8-4ca5-b199-c4185a2a629f",
   "metadata": {},
   "outputs": [],
   "source": []
  },
  {
   "cell_type": "code",
   "execution_count": 192,
   "id": "287271bb-5506-4bb1-b60c-c1fa76e03b81",
   "metadata": {},
   "outputs": [],
   "source": [
    "list_1829 = word_list(df_1829)\n",
    "list_1837 = word_list(df_1837)\n",
    "list_1845 = word_list(df_1845)\n",
    "list_1844 = word_list(df_1844)\n",
    "list_1798 = word_list(df_1798)\n",
    "list_1840 = word_list(df_1840)\n",
    "list_1851 = word_list(df_1851)"
   ]
  },
  {
   "cell_type": "code",
   "execution_count": null,
   "id": "7e430661-f507-4965-8a1c-871a112cac67",
   "metadata": {},
   "outputs": [],
   "source": []
  },
  {
   "cell_type": "markdown",
   "id": "2e5442ea-e5f4-4317-aee8-9d0a0b0a8a0e",
   "metadata": {},
   "source": [
    "Now to remove common words."
   ]
  },
  {
   "cell_type": "code",
   "execution_count": 193,
   "id": "d3ce4ff1-551d-4993-b0ca-2c7c080beda1",
   "metadata": {},
   "outputs": [],
   "source": [
    "#This function removes all common stopwords from the nltk package\n",
    "def remove_stop(array):\n",
    "    stop_words = set(stopwords.words('english'))\n",
    "    new_arr = []\n",
    "    for i in array:\n",
    "        if i not in stop_words:\n",
    "            new_arr.append(i)\n",
    "    return new_arr"
   ]
  },
  {
   "cell_type": "code",
   "execution_count": 199,
   "id": "7d0e7402-f028-4ee7-b8e6-24df5d445d6c",
   "metadata": {},
   "outputs": [
    {
     "data": {
      "text/plain": [
       "['departing',\n",
       " 'love',\n",
       " 'much',\n",
       " 'delight',\n",
       " 'think',\n",
       " 'thee',\n",
       " 'hower',\n",
       " 'far',\n",
       " 'away',\n",
       " 'crave']"
      ]
     },
     "execution_count": 199,
     "metadata": {},
     "output_type": "execute_result"
    }
   ],
   "source": [
    "clean_1829 = remove_stop(list_1829)\n",
    "clean_1837 = remove_stop(list_1837)\n",
    "clean_1845 = remove_stop(list_1845)\n",
    "clean_1844 = remove_stop(list_1844)\n",
    "clean_1798 = remove_stop(list_1798)\n",
    "clean_1840 = remove_stop(list_1840)\n",
    "clean_1851 = remove_stop(list_1851)\n",
    "clean_1851[:10]"
   ]
  },
  {
   "cell_type": "markdown",
   "id": "9318515e-ed27-40a2-b565-bc1ad8063f27",
   "metadata": {},
   "source": [
    "Now I will create a function to calculate the current mean."
   ]
  },
  {
   "cell_type": "code",
   "execution_count": 71,
   "id": "92fa052e-9b2c-4f68-a2b8-a27260cd0319",
   "metadata": {},
   "outputs": [
    {
     "data": {
      "text/plain": [
       "5.283446712018141"
      ]
     },
     "execution_count": 71,
     "metadata": {},
     "output_type": "execute_result"
    }
   ],
   "source": [
    "def mean_word_length(list_by_year):\n",
    "    word_list = []\n",
    "    for i in list_by_year:\n",
    "        word = len(i)\n",
    "        word_list.append(word)\n",
    "    return np.mean(word_list)\n",
    "\n",
    "mean_word_length(clean_1829)"
   ]
  },
  {
   "cell_type": "code",
   "execution_count": 72,
   "id": "e2ee837f-5204-4e1b-bfb0-da4257c8ff74",
   "metadata": {},
   "outputs": [
    {
     "data": {
      "text/plain": [
       "5.283446712018141"
      ]
     },
     "execution_count": 72,
     "metadata": {},
     "output_type": "execute_result"
    }
   ],
   "source": [
    "mean_1829 = mean_word_length(clean_1829)\n",
    "mean_1837 = mean_word_length(clean_1837)\n",
    "mean_1845 = mean_word_length(clean_1845)\n",
    "mean_1844 = mean_word_length(clean_1844)\n",
    "mean_1798 = mean_word_length(clean_1798)\n",
    "mean_1840 = mean_word_length(clean_1840)\n",
    "mean_1851 = mean_word_length(clean_1851)\n",
    "mean_1829"
   ]
  },
  {
   "cell_type": "code",
   "execution_count": 73,
   "id": "af538f40-e016-4d1c-b0d4-9c2d740fe91d",
   "metadata": {},
   "outputs": [
    {
     "data": {
      "text/plain": [
       "[5.283446712018141,\n",
       " 5.570266272189349,\n",
       " 5.369041603503453,\n",
       " 5.2318181818181815,\n",
       " 5.412371134020619,\n",
       " 4.948497854077253,\n",
       " 5.273255813953488]"
      ]
     },
     "execution_count": 73,
     "metadata": {},
     "output_type": "execute_result"
    }
   ],
   "source": [
    "mean_word_lengths = [mean_1829, mean_1837, mean_1845, mean_1844, mean_1798, mean_1840, mean_1851]\n",
    "mean_word_lengths"
   ]
  },
  {
   "cell_type": "markdown",
   "id": "09c5bee9-8ebc-4412-acbe-4d3aa2ba59d9",
   "metadata": {},
   "source": [
    "Next I will create a function that bootstraps lists that are 200 words in length from the list given, takes the average word length, and repeats a given number of times."
   ]
  },
  {
   "cell_type": "code",
   "execution_count": 103,
   "id": "3190fe71-7424-42be-a2af-08a8cf3824d6",
   "metadata": {},
   "outputs": [
    {
     "data": {
      "text/plain": [
       "[5.22, 5.37, 5.555, 5.265, 5.495, 5.27, 5.125, 5.425, 5.17, 5.21]"
      ]
     },
     "execution_count": 103,
     "metadata": {},
     "output_type": "execute_result"
    }
   ],
   "source": [
    "def bootstrap_new_word_lists(array, repetitions):\n",
    "    new_df = pd.DataFrame(array)\n",
    "    list_of_means = []\n",
    "    for i in np.arange(repetitions):\n",
    "        new_sample = new_df.sample(200, replace = True)\n",
    "        new_sample_arr = new_sample[0].values\n",
    "        mean_sample = mean_word_length(new_sample_arr)\n",
    "        list_of_means.append(mean_sample)\n",
    "    return list_of_means\n",
    "\n",
    "bootstrap_new_word_lists(clean_1829, 10)"
   ]
  },
  {
   "cell_type": "markdown",
   "id": "82e717a1-cc1b-40c5-8d6f-bc6699196844",
   "metadata": {
    "tags": []
   },
   "source": [
    "I will now bootstrap 10,000 times per year given, and place everything into a table."
   ]
  },
  {
   "cell_type": "code",
   "execution_count": 117,
   "id": "b9006a46-c69f-44a2-8cc7-bc824141e2da",
   "metadata": {},
   "outputs": [
    {
     "data": {
      "text/html": [
       "<table border=\"1\" class=\"dataframe\">\n",
       "    <thead>\n",
       "        <tr>\n",
       "            <th>1798</th> <th>1829</th> <th>1837</th> <th>1840</th> <th>1844</th> <th>1845</th> <th>1851</th>\n",
       "        </tr>\n",
       "    </thead>\n",
       "    <tbody>\n",
       "        <tr>\n",
       "            <td>5.57 </td> <td>5.13 </td> <td>5.83 </td> <td>4.92 </td> <td>4.925</td> <td>5.425</td> <td>5.115</td>\n",
       "        </tr>\n",
       "        <tr>\n",
       "            <td>5.43 </td> <td>5.405</td> <td>5.6  </td> <td>4.78 </td> <td>5.27 </td> <td>5.12 </td> <td>5.455</td>\n",
       "        </tr>\n",
       "        <tr>\n",
       "            <td>5.335</td> <td>5.09 </td> <td>5.9  </td> <td>4.995</td> <td>5.345</td> <td>5.45 </td> <td>5.11 </td>\n",
       "        </tr>\n",
       "        <tr>\n",
       "            <td>5.655</td> <td>5.455</td> <td>5.525</td> <td>4.79 </td> <td>5.02 </td> <td>5.5  </td> <td>5.24 </td>\n",
       "        </tr>\n",
       "        <tr>\n",
       "            <td>5.435</td> <td>5.025</td> <td>5.315</td> <td>4.87 </td> <td>5.085</td> <td>5.47 </td> <td>5.165</td>\n",
       "        </tr>\n",
       "        <tr>\n",
       "            <td>5.36 </td> <td>5.1  </td> <td>5.625</td> <td>4.95 </td> <td>5.13 </td> <td>5.38 </td> <td>5.165</td>\n",
       "        </tr>\n",
       "        <tr>\n",
       "            <td>5.25 </td> <td>5.17 </td> <td>5.525</td> <td>4.875</td> <td>5.215</td> <td>5.295</td> <td>5.405</td>\n",
       "        </tr>\n",
       "        <tr>\n",
       "            <td>5.28 </td> <td>5.155</td> <td>5.515</td> <td>4.905</td> <td>5.075</td> <td>5.505</td> <td>5.31 </td>\n",
       "        </tr>\n",
       "        <tr>\n",
       "            <td>5.2  </td> <td>5.255</td> <td>5.62 </td> <td>5.075</td> <td>5.375</td> <td>5.4  </td> <td>5.485</td>\n",
       "        </tr>\n",
       "        <tr>\n",
       "            <td>5.37 </td> <td>5.535</td> <td>5.62 </td> <td>4.755</td> <td>5.435</td> <td>5.23 </td> <td>5.365</td>\n",
       "        </tr>\n",
       "    </tbody>\n",
       "</table>\n",
       "<p>... (9990 rows omitted)</p>"
      ],
      "text/plain": [
       "1798  | 1829  | 1837  | 1840  | 1844  | 1845  | 1851\n",
       "5.57  | 5.13  | 5.83  | 4.92  | 4.925 | 5.425 | 5.115\n",
       "5.43  | 5.405 | 5.6   | 4.78  | 5.27  | 5.12  | 5.455\n",
       "5.335 | 5.09  | 5.9   | 4.995 | 5.345 | 5.45  | 5.11\n",
       "5.655 | 5.455 | 5.525 | 4.79  | 5.02  | 5.5   | 5.24\n",
       "5.435 | 5.025 | 5.315 | 4.87  | 5.085 | 5.47  | 5.165\n",
       "5.36  | 5.1   | 5.625 | 4.95  | 5.13  | 5.38  | 5.165\n",
       "5.25  | 5.17  | 5.525 | 4.875 | 5.215 | 5.295 | 5.405\n",
       "5.28  | 5.155 | 5.515 | 4.905 | 5.075 | 5.505 | 5.31\n",
       "5.2   | 5.255 | 5.62  | 5.075 | 5.375 | 5.4   | 5.485\n",
       "5.37  | 5.535 | 5.62  | 4.755 | 5.435 | 5.23  | 5.365\n",
       "... (9990 rows omitted)"
      ]
     },
     "execution_count": 117,
     "metadata": {},
     "output_type": "execute_result"
    }
   ],
   "source": [
    "bootstrapped_years = Table().with_columns('1798', bootstrap_new_word_lists(clean_1798, 10000),\n",
    "                                        '1829', bootstrap_new_word_lists(clean_1829, 10000),\n",
    "                                         '1837', bootstrap_new_word_lists(clean_1837, 10000),\n",
    "                                          '1840', bootstrap_new_word_lists(clean_1840, 10000),\n",
    "                                          '1844', bootstrap_new_word_lists(clean_1844, 10000),\n",
    "                                         '1845', bootstrap_new_word_lists(clean_1845, 10000),\n",
    "                                         '1851', bootstrap_new_word_lists(clean_1851, 10000))\n",
    "bootstrapped_years"
   ]
  },
  {
   "cell_type": "code",
   "execution_count": 165,
   "id": "e30f5a4f-b933-480e-8f57-3a0d242881d9",
   "metadata": {},
   "outputs": [
    {
     "data": {
      "text/plain": [
       "6.01"
      ]
     },
     "execution_count": 165,
     "metadata": {},
     "output_type": "execute_result"
    }
   ],
   "source": [
    "max(bootstrapped_years['1798'])"
   ]
  },
  {
   "cell_type": "markdown",
   "id": "951aff63-2fe5-49c6-8d47-d95f317f88d0",
   "metadata": {},
   "source": [
    "I will now create a function that plots the means on a histogram, and determines a confidence interval for our mean."
   ]
  },
  {
   "cell_type": "code",
   "execution_count": 200,
   "id": "ff08b3a6-dae8-4b8a-8521-a0e5fb77cfdc",
   "metadata": {},
   "outputs": [
    {
     "name": "stdout",
     "output_type": "stream",
     "text": [
      "95% Confidence Interval Lower Bound =  5.17\n",
      "95% Confidence Interval Upper Bound =  5.665\n"
     ]
    },
    {
     "data": {
      "image/png": "[encoded data removed]",
      "text/plain": [
       "<Figure size 432x288 with 1 Axes>"
      ]
     },
     "metadata": {
      "needs_background": "light"
     },
     "output_type": "display_data"
    }
   ],
   "source": [
    "def mean_graph_confidenceinterval(Bootstrapped_Table, Column):\n",
    "    T2 = Bootstrapped_Table.select(Column)\n",
    "    left_end_1 = percentile(2.5, T2.column(0))\n",
    "    right_end_1 = percentile(97.5, T2.column(0))\n",
    "\n",
    "    T2.hist()\n",
    "    plt.plot(make_array(left_end_1, right_end_1), make_array(0, .01), color='yellow', lw=10, zorder=1)\n",
    "    plt.title('Average Letters Per Word')\n",
    "    \n",
    "    print('95% Confidence Interval Lower Bound = ', left_end_1)\n",
    "    print('95% Confidence Interval Upper Bound = ', right_end_1)\n",
    "\n",
    "mean_graph_confidenceinterval(bootstrapped_years, '1798')"
   ]
  },
  {
   "cell_type": "code",
   "execution_count": 179,
   "id": "79bfffaf-422c-4d06-9c25-3535034386e3",
   "metadata": {},
   "outputs": [
    {
     "name": "stdout",
     "output_type": "stream",
     "text": [
      "95% Confidence Interval Lower Bound =  5.02\n",
      "95% Confidence Interval Upper Bound =  5.54\n"
     ]
    },
    {
     "data": {
      "image/png": "[encoded data removed]",
      "text/plain": [
       "<Figure size 432x288 with 1 Axes>"
      ]
     },
     "metadata": {
      "needs_background": "light"
     },
     "output_type": "display_data"
    }
   ],
   "source": [
    "mean_graph_confidenceinterval(bootstrapped_years, '1851')"
   ]
  }
 ],
 "metadata": {
  "kernelspec": {
   "display_name": "Python 3",
   "language": "python",
   "name": "python3"
  },
  "language_info": {
   "codemirror_mode": {
    "name": "ipython",
    "version": 3
   },
   "file_extension": ".py",
   "mimetype": "text/x-python",
   "name": "python",
   "nbconvert_exporter": "python",
   "pygments_lexer": "ipython3",
   "version": "3.8.8"
  }
 },
 "nbformat": 4,
 "nbformat_minor": 5
}
